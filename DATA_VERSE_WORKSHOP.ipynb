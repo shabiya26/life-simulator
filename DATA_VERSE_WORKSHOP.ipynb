{
  "nbformat": 4,
  "nbformat_minor": 0,
  "metadata": {
    "colab": {
      "provenance": []
    },
    "kernelspec": {
      "name": "python3",
      "display_name": "Python 3"
    },
    "language_info": {
      "name": "python"
    }
  },
  "cells": [
    {
      "cell_type": "code",
      "execution_count": 1,
      "metadata": {
        "id": "MWnirhaxR566"
      },
      "outputs": [],
      "source": [
        "# Imports Libraries\n",
        "import pandas as pd\n",
        "import seaborn as sns\n",
        "import matplotlib.pyplot as plt"
      ]
    },
    {
      "cell_type": "code",
      "source": [
        "# Load dataset\n",
        "df = pd.read_csv(\"Nagpur_Crimes.csv\")\n"
      ],
      "metadata": {
        "id": "T1VA9rSLR9Lb"
      },
      "execution_count": null,
      "outputs": []
    },
    {
      "cell_type": "code",
      "source": [
        "# Overview\n",
        "print(\"Shape:\", df.shape)\n",
        "df.head()"
      ],
      "metadata": {
        "id": "H9oPuWWlSAz_"
      },
      "execution_count": null,
      "outputs": []
    },
    {
      "cell_type": "code",
      "source": [
        "#Structure of Dataset\n",
        "df.info()"
      ],
      "metadata": {
        "id": "6sh1vSynSEc5"
      },
      "execution_count": null,
      "outputs": []
    },
    {
      "cell_type": "code",
      "source": [
        "# Missing values\n",
        "print(\"\\nMissing values:\\n\", df.isnull().sum())"
      ],
      "metadata": {
        "id": "RDYwoY0WSIP5"
      },
      "execution_count": null,
      "outputs": []
    },
    {
      "cell_type": "code",
      "source": [
        "# Handling Missing Crime_Type (603 missing)\n",
        "print(\"Crime_Type missing percentage:\", (df['Crime_Type'].isnull().sum() / len(df)) * 100)"
      ],
      "metadata": {
        "id": "6l0_TfEVSMXS"
      },
      "execution_count": null,
      "outputs": []
    },
    {
      "cell_type": "code",
      "source": [
        "#dropping the rows where crime_type is missing\n",
        "df = df.dropna(subset=['Crime_Type'])\n",
        "print(\"\\nMissing values:\\n\", df.isnull().sum())"
      ],
      "metadata": {
        "id": "N8ttCWJnSQrl"
      },
      "execution_count": null,
      "outputs": []
    },
    {
      "cell_type": "code",
      "source": [
        "#Handling Missing values for Time and Date\n",
        "print(\"Time missing %:\", (df['Time'].isnull().sum() / len(df)) * 100)\n",
        "print(\"Date missing %:\", (df['Date'].isnull().sum() / len(df)) * 100)"
      ],
      "metadata": {
        "id": "Gu6ijVywSXiQ"
      },
      "execution_count": null,
      "outputs": []
    },
    {
      "cell_type": "code",
      "source": [
        "# Drop rows where either Time or Date is missing\n",
        "df = df.dropna(subset=['Time', 'Date'])\n",
        "print(\"\\nMissing values:\\n\", df.isnull().sum())"
      ],
      "metadata": {
        "id": "qPctrTL4Sc9d"
      },
      "execution_count": null,
      "outputs": []
    },
    {
      "cell_type": "code",
      "source": [
        "#Convert dates to proper datetime format\n",
        "df['Time'] = pd.to_datetime(df['Time'], format='%H:%M', errors='coerce')"
      ],
      "metadata": {
        "id": "KFszyyAnSgAq"
      },
      "execution_count": null,
      "outputs": []
    },
    {
      "cell_type": "code",
      "source": [
        "#Convert to datetime formats again (cleanly)\n",
        "df['Time'] = pd.to_datetime(df['Time'], errors='coerce')\n",
        "df['Hour'] = df['Time'].dt.hour\n",
        "\n",
        "df['Date'] = pd.to_datetime(df['Date'], errors='coerce')\n",
        "df['Month'] = df['Date'].dt.to_period('M')"
      ],
      "metadata": {
        "id": "o8VvhwYHsgCS"
      },
      "execution_count": null,
      "outputs": []
    },
    {
      "cell_type": "code",
      "source": [
        "df"
      ],
      "metadata": {
        "id": "jewm_wZwusmZ"
      },
      "execution_count": null,
      "outputs": []
    },
    {
      "cell_type": "code",
      "source": [
        "#Remove Duplicates\n",
        "print(\"Shape before removing duplicates:\", df.shape)\n",
        "df = df.drop_duplicates()\n",
        "print(\"Shape after removing duplicates:\", df.shape)\n",
        "print(\"\\nColumn data types:\\n\", df.dtypes)"
      ],
      "metadata": {
        "id": "_OMtCmQQSk8h"
      },
      "execution_count": null,
      "outputs": []
    },
    {
      "cell_type": "code",
      "source": [
        "#check if there are still missing values present or not\n",
        "df.isnull().sum()"
      ],
      "metadata": {
        "id": "qMtBDW0iuzDo"
      },
      "execution_count": null,
      "outputs": []
    },
    {
      "cell_type": "code",
      "source": [
        "#Downloading the cleaned dataset\n",
        "df.to_csv('cleaned_nagpur_crime_data.csv', index=False)"
      ],
      "metadata": {
        "id": "ZyEeNLTSSvwM"
      },
      "execution_count": null,
      "outputs": []
    },
    {
      "cell_type": "code",
      "source": [
        "#checking how many rows left after cleaning\n",
        "df"
      ],
      "metadata": {
        "id": "Nr-CywnwS7-N"
      },
      "execution_count": null,
      "outputs": []
    },
    {
      "cell_type": "markdown",
      "source": [
        "DATA ANALYSIS"
      ],
      "metadata": {
        "id": "EnJpv1gRTH3n"
      }
    },
    {
      "cell_type": "code",
      "source": [
        "#Crime Count by Hour of the Day\n",
        "df['Hour'].value_counts().sort_index()"
      ],
      "metadata": {
        "id": "IlVYazicTLCO"
      },
      "execution_count": null,
      "outputs": []
    },
    {
      "cell_type": "code",
      "source": [
        "#Top 3 Most Common Crime Types\n",
        "df['Crime_Type'].value_counts().head(3)"
      ],
      "metadata": {
        "id": "peYubKTETRcq"
      },
      "execution_count": null,
      "outputs": []
    },
    {
      "cell_type": "code",
      "source": [
        "# Areas with Highest Crime Reports\n",
        "df['Area'].value_counts().head(10)"
      ],
      "metadata": {
        "id": "GFFm3XTlTVV9"
      },
      "execution_count": null,
      "outputs": []
    },
    {
      "cell_type": "code",
      "source": [
        "#Most Common Crime Types in Each Zone\n",
        "df.groupby('Zone')['Crime_Type'].value_counts().groupby(level=0).head(1)"
      ],
      "metadata": {
        "id": "gmlr-xszv_C3"
      },
      "execution_count": null,
      "outputs": []
    },
    {
      "cell_type": "code",
      "source": [
        "#Count of Each Case Status (Solved/Pending)\n",
        "df['Status'].value_counts()"
      ],
      "metadata": {
        "id": "2zQTn-WOTcY8"
      },
      "execution_count": null,
      "outputs": []
    },
    {
      "cell_type": "code",
      "source": [
        "#Monthly Crime Trends\n",
        "df.groupby('Month').size().sort_index()"
      ],
      "metadata": {
        "id": "AnpCzQ1cThCD"
      },
      "execution_count": null,
      "outputs": []
    },
    {
      "cell_type": "markdown",
      "source": [
        "DATA VISUALISATION"
      ],
      "metadata": {
        "id": "6quvYt15Tyf8"
      }
    },
    {
      "cell_type": "code",
      "source": [
        "import matplotlib.pyplot as plt\n",
        "import seaborn as sns\n",
        "\n",
        "# Top 10 crime-prone areas\n",
        "top_areas = df['Area'].value_counts().head(10)\n",
        "\n",
        "plt.figure(figsize=(10,6))\n",
        "sns.barplot(x=top_areas.values, y=top_areas.index, palette='Reds_r')\n",
        "plt.title(\"Top 10 Crime-Prone Areas in Nagpur\")\n",
        "plt.xlabel(\"Number of Crimes\")\n",
        "plt.ylabel(\"Area\")\n",
        "plt.tight_layout()\n",
        "plt.show()"
      ],
      "metadata": {
        "id": "IeVfydjaT1rm"
      },
      "execution_count": null,
      "outputs": []
    },
    {
      "cell_type": "code",
      "source": [
        "#Is crime increasing over time?\n",
        "monthly_trend = df.groupby('Month').size()\n",
        "\n",
        "plt.figure(figsize=(12,5))\n",
        "monthly_trend.plot(marker='o', color='royalblue')\n",
        "plt.title(\"Crime Trend Over Time (Monthly)\")\n",
        "plt.xlabel(\"Month\")\n",
        "plt.ylabel(\"Number of Crimes\")\n",
        "plt.grid(True)\n",
        "plt.xticks(rotation=45)\n",
        "plt.tight_layout()\n",
        "plt.show()"
      ],
      "metadata": {
        "id": "x5nfXpXqT8NQ"
      },
      "execution_count": null,
      "outputs": []
    }
  ]
}